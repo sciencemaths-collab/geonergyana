{
  "nbformat": 4,
  "nbformat_minor": 5,
  "metadata": {
    "kernelspec": {
      "display_name": "Python 3",
      "language": "python",
      "name": "python3"
    },
    "language_info": {
      "name": "python",
      "version": "3.x"
    }
  },
  "cells": [
    {
      "cell_type": "markdown",
      "metadata": {},
      "source": [
        "# GeoNergyAna Colab Launcher (Refined Gas‑Phase + ML)\n",
        "\n",
        "This notebook runs the **enegeo_refined4_gas_ml.py** pipeline end‑to‑end *in‑memory* without saving the script file, protecting your code:\n",
        "1. Install dependencies (including ML extras)\n",
        "2. Upload inputs (`.sph`, receptor PDB, ZIP of poses)\n",
        "3. Unzip and organize inputs\n",
        "4. Fetch and execute the refined pipeline script from GitHub\n",
        "5. Inspect results and SHAP/ML outputs\n",
        "6. Download outputs\n"
      ]
    },
    {
      "cell_type": "code",
      "metadata": {},
      "source": [
        "# 1️⃣ Install dependencies\n",
        "!pip install numpy pandas matplotlib scipy mdtraj biopython openmm scikit-learn lightgbm shap joblib git+https://github.com/openmm/pdbfixer.git"
      ],
      "execution_count": null,
      "outputs": []
    },
    {
      "cell_type": "code",
      "metadata": {},
      "source": [
        "# 2️⃣ Upload user inputs\n",
        "from google.colab import files\n",
        "print(\"➜ Upload your surface-definition .sph file:\")\n",
        "sph_up = files.upload()\n",
        "print(\"➜ Upload your receptor PDB file:\")\n",
        "rec_up = files.upload()\n",
        "print(\"➜ Upload a ZIP archive of your poses directory (contains .pdbs):\")\n",
        "poses_up = files.upload()"
      ],
      "execution_count": null,
      "outputs": []
    },
    {
      "cell_type": "code",
      "metadata": {},
      "source": [
        "# 3️⃣ Unzip poses and organize inputs\n",
        "import os, zipfile\n",
        "sph_fname = next(iter(sph_up))\n",
        "rec_fname = next(iter(rec_up))\n",
        "poses_zip = next(iter(poses_up))\n",
        "os.makedirs('user_inputs/poses', exist_ok=True)\n",
        "os.replace(sph_fname, f'user_inputs/{sph_fname}')\n",
        "os.replace(rec_fname, f'user_inputs/{rec_fname}')\n",
        "with zipfile.ZipFile(poses_zip, 'r') as z:\n",
        "    z.extractall('user_inputs/poses')"
      ],
      "execution_count": null,
      "outputs": []
    },
    {
      "cell_type": "code",
      "metadata": {},
      "source": [
        "# 4️⃣ Fetch and execute the refined pipeline script\n",
        "import requests, sys\n",
        "# Prepare sys.argv for pipeline\n",
        "args = [\n",
        "  'enegeo_refined4_gas_ml.py',\n",
        "  '--sph', f'user_inputs/{sph_fname}',\n",
        "  '--rec', f'user_inputs/{rec_fname}',\n",
        "  '--ligdir', 'user_inputs/poses/ligs',  # adjust if your ZIP structure differs\n",
        "  '--outdir', 'results',\n",
        "  '--frac_thresh', '0.5',\n",
        "  '--depth_thresh', '0.3',\n",
        "  '--vicinity_radius', '2.0',\n",
        "  '--keep_h',\n",
        "  '--nsteps', '2000',\n",
        "  '--dt', '0.001',\n",
        "  '--interval', '100',\n",
        "  '--ml',        # enable regression\n",
        "  '--hpo',       # enable hyperparam search\n",
        "  '--classify',  # enable classification\n",
        "  '--verbose'\n",
        "]\n",
        "sys.argv = args\n",
        "# Pull script text\n",
        "script = requests.get('https://raw.githubusercontent.com/sciencemaths-collab/geonergyana/main/geonergy.py').text\n",
        "# Execute in‑memory\n",
        "exec(script)"
      ],
      "execution_count": null,
      "outputs": []
    },
    {
      "cell_type": "code",
      "metadata": {},
      "source": [
        "# 5️⃣ Inspect outputs\n",
        "import pandas as pd\n",
        "from IPython.display import display, Image\n",
        "print('Generated files in results/:')\n",
        "!ls results\n",
        "df = pd.read_csv('results/kept_ligs.csv')\n",
        "display(df)\n",
        "# Show key plots\n",
        "display(Image('results/A_frac_depth.png'))\n",
        "display(Image('results/C_score_vs_wscore.png'))\n",
        "display(Image('results/E_score_vs_dG.png'))"
      ],
      "execution_count": null,
      "outputs": []
    },
    {
      "cell_type": "code",
      "metadata": {},
      "source": [
        "# 6️⃣ Zip & download results\n",
        "from google.colab import files\n",
        "!zip -r results.zip results\n",
        "files.download('results.zip')"
      ],
      "execution_count": null,
      "outputs": []
    }
  ]
}
