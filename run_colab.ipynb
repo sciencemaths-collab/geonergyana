{
  "nbformat": 4,
  "nbformat_minor": 5,
  "metadata": {
    "kernelspec": {
      "display_name": "Python 3",
      "language": "python",
      "name": "python3"
    },
    "language_info": {
      "name": "python",
      "version": "3.x"
    }
  },
  "cells": [
    {
      "cell_type": "markdown",
      "metadata": {},
      "source": [
        "# GeoNergyAna Colab Launcher\n",
        "\n",
        "This notebook runs the **geonergy_ana.py** pipeline end-to-end:\n",
        "1. Clone the GitHub repo\n",
        "2. Install dependencies\n",
        "3. Upload your inputs (`.sph`, receptor PDB, ZIP of poses)\n",
        "4. Run the analysis\n",
        "5. Inspect results\n",
        "6. Download outputs"
      ]
    },
    {
      "cell_type": "code",
      "metadata": {},
      "source": [
        "# 1️⃣ Clone repo & install dependencies\n",
        "!git clone https://github.com/sciencemaths-collab/geonergyana.git\n",
        "!pip install git+https://github.com/openmm/pdbfixer.git\n",
        "%cd geonergyana\n",
        "!pip install -r requirements.txt"
      ],
      "execution_count": null,
      "outputs": []
    },
    {
      "cell_type": "code",
      "metadata": {},
      "source": [
        "# 2️⃣ Upload user inputs\n",
        "from google.colab import files\n",
        "print(\"➜ Upload your surface-definition .sph file:\")\n",
        "sph_up = files.upload()\n",
        "print(\"➜ Upload your receptor PDB file:\")\n",
        "rec_up = files.upload()\n",
        "print(\"➜ Upload a ZIP archive of your poses directory:\")\n",
        "poses_up = files.upload()"
      ],
      "execution_count": null,
      "outputs": []
    },
    {
      "cell_type": "code",
      "metadata": {},
      "source": [
        "# 3️⃣ Unzip the poses and move files into user_inputs/\n",
        "import os, zipfile\n",
        "sph_fname = next(iter(sph_up))\n",
        "rec_fname = next(iter(rec_up))\n",
        "poses_zip = next(iter(poses_up))\n",
        "os.makedirs('user_inputs/poses', exist_ok=True)\n",
        "os.replace(sph_fname, f'user_inputs/{sph_fname}')\n",
        "os.replace(rec_fname, f'user_inputs/{rec_fname}')\n",
        "with zipfile.ZipFile(poses_zip, 'r') as z:\n",
        "    z.extractall('user_inputs/poses')"
      ],
      "execution_count": null,
      "outputs": []
    },
    {
      "cell_type": "code",
      "metadata": {},
      "source": [
        "# 4️⃣ Run the main analysis\n",
        "!python geonergy_ana.py \\\n",
        "  --sph user_inputs/{sph_fname} \\\n",
        "  --rec user_inputs/{rec_fname} \\\n",
        "  --ligdir user_inputs/poses/ligs/ \\\n",
        "  --outdir results \\\n",
        "  --frac_thresh 0.5 \\\n",
        "  --depth_thresh 0.3 \\\n",
        "  --vicinity_radius 2.0 \\\n",
        "  --keep_h \\\n",
        "  --nsteps 2000 \\\n",
        "  --dt 0.001 \\\n",
        "  --interval 100 \\\n",
        "  --verbose"
      ],
      "execution_count": null,
      "outputs": []
    },
    {
      "cell_type": "code",
      "metadata": {},
      "source": [
        "# 5️⃣ Preview outputs\n",
        "import pandas as pd\n",
        "from IPython.display import display, Image\n",
        "print(\"Generated files in results/:\")\n",
        "!ls results\n",
        "df = pd.read_csv('results/kept_ligs.csv')\n",
        "display(df)\n",
        "display(Image('results/A_frac_depth.png'))"
      ],
      "execution_count": null,
      "outputs": []
    },
    {
      "cell_type": "code",
      "metadata": {},
      "source": [
        "# 6️⃣ Zip & download results\n",
        "from google.colab import files\n",
        "!zip -r results.zip results\n",
        "files.download('results.zip')"
      ],
      "execution_count": null,
      "outputs": []
    }
  ]
}
