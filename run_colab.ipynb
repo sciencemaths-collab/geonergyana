{
  "nbformat": 4,
  "nbformat_minor": 5,
  "metadata": {
    "kernelspec": {
      "display_name": "Python 3",
      "language": "python",
      "name": "python3"
    },
    "language_info": {
      "name": "python",
      "version": "3.x"
    }
  },
  "cells": [
    {
      "cell_type": "markdown",
      "metadata": {},
      "source": [
        "# GeoNergyAna Colab Launcher\n",
        "\n",
        "This notebook runs the **geonergyana.py** pipeline end-to-end *in-memory* without saving the script file, protecting your code:"\n",
        "1. Install dependencies\n",
        "2. Upload your inputs (`.sph`, receptor PDB, ZIP of poses)\n",
        "3. Unzip and organize inputs\n",
        "4. Fetch and execute the pipeline script from GitHub\n",
        "5. Inspect results\n",
        "6. Download outputs"
      ]
    },
    {
      "cell_type": "code",
      "metadata": {},
      "source": [
        "# 1️⃣ Install dependencies\n",
        "!pip install numpy pandas matplotlib scipy mdtraj biopython openmm\n",
        "# Install pdbfixer directly from GitHub\n",
        "!pip install git+https://github.com/openmm/pdbfixer.git"
      ],
      "execution_count": null,
      "outputs": []
    },
    {
      "cell_type": "code",
      "metadata": {},
      "source": [
        "# 2️⃣ Upload user inputs\n",
        "from google.colab import files\n",
        "print(\"➜ Upload your surface-definition .sph file:\")\n",
        "sph_up = files.upload()\n",
        "print(\"➜ Upload your receptor PDB file:\")\n",
        "rec_up = files.upload()\n",
        "print(\"➜ Upload a ZIP archive of your poses directory:\")\n",
        "poses_up = files.upload()"
      ],
      "execution_count": null,
      "outputs": []
    },
    {
      "cell_type": "code",
      "metadata": {},
      "source": [
        "# 3️⃣ Unzip poses and organize inputs\n",
        "import os, zipfile\n",
        "# Filenames from uploads\n",
        "sph_fname = next(iter(sph_up))\n",
        "rec_fname = next(iter(rec_up))\n",
        "poses_zip = next(iter(poses_up))\n",
        "# Create input dirs\n",
        "os.makedirs('user_inputs/poses', exist_ok=True)\n",
        "# Move files into user_inputs\n",
        "os.replace(sph_fname, f'user_inputs/{sph_fname}')\n",
        "os.replace(rec_fname, f'user_inputs/{rec_fname}')\n",
        "# Extract poses zip\n",
        "with zipfile.ZipFile(poses_zip,'r') as z:\n",
        "    z.extractall('user_inputs/poses')"
      ],
      "execution_count": null,
      "outputs": []
    },
    {
      "cell_type": "code",
      "metadata": {},
      "source": [
        "# 4️⃣ Fetch and execute the pipeline script\n",
        "import requests, sys\n",
        "# Prepare args for geonergyana.py\n",
        "args = [\n",
        "  'geonergyana.py',\n",
        "  '--sph', f'user_inputs/{sph_fname}',\n",
        "  '--rec', f'user_inputs/{rec_fname}',\n",
        "  '--ligdir', 'user_inputs/poses/ligs/',\n",
        "  '--outdir', 'results',\n",
        "  '--frac_thresh', '0.5',\n",
        "  '--depth_thresh', '0.3',\n",
        "  '--vicinity_radius', '2.0',\n",
        "  '--keep_h',\n",
        "  '--nsteps', '2000',\n",
        "  '--dt', '0.001',\n",
        "  '--interval', '100',\n",
        "  '--verbose'\n",
        "]\n",
        "# Override sys.argv and execute in-memory\n",
        "sys.argv = args\n",
        "script = requests.get('https://raw.githubusercontent.com/sciencemaths-collab/geonergyana/main/geonergyana.py').text\n",
        "exec(script)"
      ],
      "execution_count": null,
      "outputs": []
    },
    {
      "cell_type": "code",
      "metadata": {},
      "source": [
        "# 5️⃣ Inspect outputs\n",
        "import pandas as pd\n",
        "from IPython.display import display, Image\n",
        "print('Generated files in results/:')\n",
        "!ls results\n",
        "# Show summary CSV\n",
        "df = pd.read_csv('results/kept_ligs.csv')\n",
        "display(df)\n",
        "# Display first plot\n",
        "display(Image('results/A_frac_depth.png'))"
      ],
      "execution_count": null,
      "outputs": []
    },
    {
      "cell_type": "code",
      "metadata": {},
      "source": [
        "# 6️⃣ Zip & download results\n",
        "from google.colab import files\n",
        "!zip -r results.zip results\n",
        "files.download('results.zip')"
      ],
      "execution_count": null,
      "outputs": []
    }
  ]
}
