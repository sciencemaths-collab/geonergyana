{
  "nbformat": 4,
  "nbformat_minor": 5,
  "metadata": {
    "kernelspec": {"display_name": "Python 3","language": "python","name": "python3"},
    "language_info": {"name": "python","version": "3.x"}
  },
  "cells": [
    {
      "cell_type": "markdown",
      "metadata": {},
      "source": [
        "# GeoNergyAna Colab Launcher (Refined Gas‑Phase + ML)\n",
        "This Colab notebook runs **enegeo_refined4_gas_ml.py** fully in‑memory, including ML regression and classification:\n",
        "1. Install dependencies (ML extras)\n",
        "2. Upload your `.sph`, receptor PDB, and ZIP of poses\n",
        "3. Unzip & organize inputs\n",
        "4. Pull & exec pipeline script from GitHub\n",
        "5. Inspect CSV & plots (incl. SHAP outputs)\n",
        "6. Zip & download results\n"
      ]
    },
    {
      "cell_type": "code",
      "metadata": {},
      "execution_count": null,
      "outputs": [],
      "source": [
        "# 1️⃣ Install dependencies\n",
        "!pip install numpy pandas matplotlib scipy mdtraj biopython openmm scikit-learn lightgbm shap joblib git+https://github.com/openmm/pdbfixer.git"
      ]
    },
    {
      "cell_type": "code",
      "metadata": {},
      "execution_count": null,
      "outputs": [],
      "source": [
        "# 2️⃣ Upload inputs\n",
        "from google.colab import files\n",
        "print(\"Upload your surface `.sph` file:\")\n",
        "sph_up = files.upload()\n",
        "print(\"Upload receptor PDB file:\")\n",
        "rec_up = files.upload()\n",
        "print(\"Upload ZIP of your poses directory (.pdb files):\")\n",
        "poses_up = files.upload()"
      ]
    },
    {
      "cell_type": "code",
      "metadata": {},
      "execution_count": null,
      "outputs": [],
      "source": [
        "# 3️⃣ Unzip & organize inputs\n",
        "import os, zipfile\n",
        "sph_fname = next(iter(sph_up))\n",
        "rec_fname = next(iter(rec_up))\n",
        "poses_zip = next(iter(poses_up))\n",
        "os.makedirs('user_inputs/poses', exist_ok=True)\n",
        "os.replace(sph_fname, f'user_inputs/{sph_fname}')\n",
        "os.replace(rec_fname, f'user_inputs/{rec_fname}')\n",
        "with zipfile.ZipFile(poses_zip, 'r') as z: z.extractall('user_inputs/poses')"
      ]
    },
    {
      "cell_type": "code",
      "metadata": {},
      "execution_count": null,
      "outputs": [],
      "source": [
        "# 4️⃣ Pull & run pipeline\n",
        "import requests, sys\n",
        "args = [\n",
        "  'enegeo_refined4_gas_ml.py',\n",
        "  '--sph', f'user_inputs/{sph_fname}',\n",
        "  '--rec', f'user_inputs/{rec_fname}',\n",
        "  '--ligdir', 'user_inputs/poses/ligs',\n",
        "  '--outdir', 'results',\n",
        "  '--frac_thresh', '0.5', '--depth_thresh', '0.3', '--vicinity_radius', '2.0',\n",
        "  '--keep_h', '--nsteps', '2000', '--dt', '0.001', '--interval', '100',\n",
        "  '--ml', '--hpo', '--classify', '--verbose'\n",
        "]\n",
        "sys.argv = args\n",
        "script = requests.get('https://raw.githubusercontent.com/sciencemaths-collab/geonergyana/main/enegeo_refined4_gas_ml.py').text\n",
        "exec(script)"
      ]
    },
    {
      "cell_type": "code",
      "metadata": {},
      "execution_count": null,
      "outputs": [],
      "source": [
        "# 5️⃣ Inspect results\n",
        "import pandas as pd\n",
        "from IPython.display import display, Image\n",
        "print('Files in results/:')\n",
        "!ls results\n",
        "df = pd.read_csv('results/kept_ligs.csv'); display(df)\n",
        "for img in ['A_frac_depth.png','C_score_vs_wscore.png','E_score_vs_dG.png']: display(Image(f'results/{img}'))"
      ]
    },
    {
      "cell_type": "code",
      "metadata": {},
      "execution_count": null,
      "outputs": [],
      "source": [
        "# 6️⃣ Zip & download\n",
        "from google.colab import files\n",
        "!zip -r results.zip results\n",
        "files.download('results.zip')"
      ]
    }
  ]
}
