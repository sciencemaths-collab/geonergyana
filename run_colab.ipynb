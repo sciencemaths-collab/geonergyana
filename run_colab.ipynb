{
"nbformat": 4,
"nbformat\_minor": 5,
"metadata": {
"kernelspec": {
"display\_name": "Python 3",
"language": "python",
"name": "python3"
},
"language\_info": {
"name": "python",
"version": "3.x"
}
},
"cells": \[
{
"cell\_type": "markdown",
"metadata": {},
"source": \[
"# GeoNergyAna Colab Launcher\n",
"\n",
"This notebook runs the **geonergy\_ana.py** pipeline end‑to‑end:\n",
"1. Clone the GitHub repo  \n",
"2. Install dependencies  \n",
"3. Upload your inputs (`.sph`, receptor PDB, ZIP of poses)  \n",
"4. Run the analysis  \n",
"5. Inspect results  \n",
"6. Download outputs"
]
},
{
"cell\_type": "code",
"metadata": {},
"source": \[
"# 1️⃣ Clone repo & install dependencies\n",
"!git clone [https://github.com/sciencemaths-collab/geonergyana.git\n](https://github.com/sciencemaths-collab/geonergyana.git\n)",
"%cd geonergyana\n",
"!pip install -r requirements.txt"
],
"execution\_count": null,
"outputs": \[]
},
{
"cell\_type": "code",
"metadata": {},
"source": \[
"# 2️⃣ Upload user inputs\n",
"from google.colab import files\n",
"\n",
"print("➜ Upload your surface-definition .sph file:")\n",
"sph\_up = files.upload()\n",
"\n",
"print("\n➜ Upload your receptor PDB file:")\n",
"rec\_up = files.upload()\n",
"\n",
"print("\n➜ Upload a ZIP archive of your poses directory:")\n",
"poses\_up = files.upload()"
],
"execution\_count": null,
"outputs": \[]
},
{
"cell\_type": "code",
"metadata": {},
"source": \[
"# 3️⃣ Unzip the poses and move files into user\_inputs/\n",
"import os, zipfile\n",
"\n",
"# Grab the uploaded filenames\n",
"sph\_fname = next(iter(sph\_up))\n",
"rec\_fname = next(iter(rec\_up))\n",
"poses\_zip = next(iter(poses\_up))\n",
"\n",
"# Prepare directories\n",
"os.makedirs('user\_inputs/poses', exist\_ok=True)\n",
"\n",
"# Move the .sph and PDB into user\_inputs/\n",
"os.replace(sph\_fname, f'user\_inputs/{sph\_fname}')\n",
"os.replace(rec\_fname, f'user\_inputs/{rec\_fname}')\n",
"\n",
"# Unzip poses into user\_inputs/poses\n",
"with zipfile.ZipFile(poses\_zip, 'r') as z:\n",
"    z.extractall('user\_inputs/poses')"
],
"execution\_count": null,
"outputs": \[]
},
{
"cell\_type": "code",
"metadata": {},
"source": \[
"# 4️⃣ Run the main analysis\n",
"!python geonergy\_ana.py \\",
"  --sph user\_inputs/{sph\_fname} \\",
"  --rec user\_inputs/{rec\_fname} \\",
"  --ligdir user\_inputs/poses \\",
"  --outdir results \\",
"  --frac\_thresh 0.5 \\",
"  --depth\_thresh 0.3 \\",
"  --vicinity\_radius 2.0 \\",
"  --keep\_h \\",
"  --nsteps 2000 \\",
"  --dt 0.001 \\",
"  --interval 100 \\",
"  --verbose"
],
"execution\_count": null,
"outputs": \[]
},
{
"cell\_type": "code",
"metadata": {},
"source": \[
"# 5️⃣ Preview outputs\n",
"import pandas as pd\n",
"from IPython.display import display, Image\n",
"\n",
"# List files\n",
"print("Generated files in results/:")\n",
"!ls results\n",
"\n",
"# Show the CSV summary\n",
"df = pd.read\_csv('results/kept\_ligs.csv')\n",
"display(df)\n",
"\n",
"# Display the Frac vs Depth plot\n",
"display(Image('results/A\_frac\_depth.png'))"
],
"execution\_count": null,
"outputs": \[]
},
{
"cell\_type": "code",
"metadata": {},
"source": \[
"# 6️⃣ Zip & download the results folder\n",
"from google.colab import files\n",
"!zip -r results.zip results\n",
"files.download('results.zip')"
],
"execution\_count": null,
"outputs": \[]
}
]
}
